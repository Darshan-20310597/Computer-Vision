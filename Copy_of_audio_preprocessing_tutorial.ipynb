{
  "nbformat": 4,
  "nbformat_minor": 0,
  "metadata": {
    "kernelspec": {
      "display_name": "Python 3",
      "language": "python",
      "name": "python3"
    },
    "language_info": {
      "codemirror_mode": {
        "name": "ipython",
        "version": 3
      },
      "file_extension": ".py",
      "mimetype": "text/x-python",
      "name": "python",
      "nbconvert_exporter": "python",
      "pygments_lexer": "ipython3",
      "version": "3.6.8"
    },
    "colab": {
      "name": "Copy of audio_preprocessing_tutorial.ipynb",
      "provenance": [],
      "include_colab_link": true
    }
  },
  "cells": [
    {
      "cell_type": "markdown",
      "metadata": {
        "id": "view-in-github",
        "colab_type": "text"
      },
      "source": [
        "<a href=\"https://colab.research.google.com/github/Darshan-20310597/Computer-Vision/blob/master/Copy_of_audio_preprocessing_tutorial.ipynb\" target=\"_parent\"><img src=\"https://colab.research.google.com/assets/colab-badge.svg\" alt=\"Open In Colab\"/></a>"
      ]
    },
    {
      "cell_type": "code",
      "metadata": {
        "colab": {
          "base_uri": "https://localhost:8080/"
        },
        "id": "dsxKCkXILSjY",
        "outputId": "49703841-a627-4d66-a7c7-cdeed493614e"
      },
      "source": [
        "!pip install torch>=1.2.0\n",
        "!pip install torchaudio\n",
        "%matplotlib inline"
      ],
      "execution_count": null,
      "outputs": [
        {
          "output_type": "stream",
          "text": [
            "Collecting torchaudio\n",
            "\u001b[?25l  Downloading https://files.pythonhosted.org/packages/18/9a/4e2e6dbde627ffb8a6d1d4ebc4683edecad1c08099969f1d7760d92175ff/torchaudio-0.8.0-cp37-cp37m-manylinux1_x86_64.whl (1.9MB)\n",
            "\u001b[K     |████████████████████████████████| 1.9MB 11.0MB/s \n",
            "\u001b[?25hRequirement already satisfied: torch==1.8.0 in /usr/local/lib/python3.7/dist-packages (from torchaudio) (1.8.0+cu101)\n",
            "Requirement already satisfied: typing-extensions in /usr/local/lib/python3.7/dist-packages (from torch==1.8.0->torchaudio) (3.7.4.3)\n",
            "Requirement already satisfied: numpy in /usr/local/lib/python3.7/dist-packages (from torch==1.8.0->torchaudio) (1.19.5)\n",
            "Installing collected packages: torchaudio\n",
            "Successfully installed torchaudio-0.8.0\n"
          ],
          "name": "stdout"
        }
      ]
    },
    {
      "cell_type": "markdown",
      "metadata": {
        "id": "Zq9cOIWALSjd"
      },
      "source": [
        "\n",
        "torchaudio Tutorial\n",
        "===================\n",
        "\n",
        "PyTorch is an open source deep learning platform that provides a\n",
        "seamless path from research prototyping to production deployment with\n",
        "GPU support.\n",
        "\n",
        "Significant effort in solving machine learning problems goes into data\n",
        "preparation. torchaudio leverages PyTorch’s GPU support, and provides\n",
        "many tools to make data loading easy and more readable. In this\n",
        "tutorial, we will see how to load and preprocess data from a simple\n",
        "dataset.\n",
        "\n",
        "For this tutorial, please make sure the ``matplotlib`` package is\n",
        "installed for easier visualization.\n",
        "\n",
        "\n"
      ]
    },
    {
      "cell_type": "code",
      "metadata": {
        "id": "u98G3gxLLSje"
      },
      "source": [
        "import torch\n",
        "import torchaudio\n",
        "import matplotlib.pyplot as plt"
      ],
      "execution_count": null,
      "outputs": []
    },
    {
      "cell_type": "markdown",
      "metadata": {
        "id": "xeTEzTtoLSje"
      },
      "source": [
        "Opening a dataset\n",
        "-----------------\n",
        "\n",
        "\n"
      ]
    },
    {
      "cell_type": "markdown",
      "metadata": {
        "id": "TCOmM8vKLSje"
      },
      "source": [
        "torchaudio supports loading sound files in the wav and mp3 format. We\n",
        "call waveform the resulting raw audio signal.\n",
        "\n",
        "\n"
      ]
    },
    {
      "cell_type": "code",
      "metadata": {
        "colab": {
          "base_uri": "https://localhost:8080/",
          "height": 332
        },
        "id": "5SeCIm6nLSjf",
        "outputId": "63935788-99a2-4fa5-97bb-7962ef5e7e2b"
      },
      "source": [
        "import requests\n",
        "\n",
        "url = \"https://pytorch.org/tutorials//_static/img/steam-train-whistle-daniel_simon-converted-from-mp3.wav\"\n",
        "r = requests.get(url)\n",
        "\n",
        "with open('steam-train-whistle-daniel_simon-converted-from-mp3.wav', 'wb') as f:\n",
        "    f.write(r.content)\n",
        "\n",
        "filename = \"steam-train-whistle-daniel_simon-converted-from-mp3.wav\"\n",
        "waveform, sample_rate = torchaudio.load(filename)\n",
        "\n",
        "print(\"Shape of waveform: {}\".format(waveform.size()))\n",
        "print(\"Sample rate of waveform: {}\".format(sample_rate))\n",
        "\n",
        "plt.figure()\n",
        "plt.plot(waveform.t().numpy())"
      ],
      "execution_count": null,
      "outputs": [
        {
          "output_type": "stream",
          "text": [
            "Shape of waveform: torch.Size([2, 276858])\n",
            "Sample rate of waveform: 44100\n"
          ],
          "name": "stdout"
        },
        {
          "output_type": "execute_result",
          "data": {
            "text/plain": [
              "[<matplotlib.lines.Line2D at 0x7f7716a02fd0>,\n",
              " <matplotlib.lines.Line2D at 0x7f7716a30f90>]"
            ]
          },
          "metadata": {
            "tags": []
          },
          "execution_count": 3
        },
        {
          "output_type": "display_data",
          "data": {
            "image/png": "[encoded data removed]",
            "text/plain": [
              "<Figure size 432x288 with 1 Axes>"
            ]
          },
          "metadata": {
            "tags": [],
            "needs_background": "light"
          }
        }
      ]
    },
    {
      "cell_type": "markdown",
      "metadata": {
        "id": "wwWPrOGrLSjf"
      },
      "source": [
        "Transformations\n",
        "---------------\n",
        "\n",
        "torchaudio supports a growing list of\n",
        "`transformations <https://pytorch.org/audio/transforms.html>`_.\n",
        "\n",
        "-  **Resample**: Resample waveform to a different sample rate.\n",
        "-  **Spectrogram**: Create a spectrogram from a waveform.\n",
        "-  **MelScale**: This turns a normal STFT into a Mel-frequency STFT,\n",
        "   using a conversion matrix.\n",
        "-  **AmplitudeToDB**: This turns a spectrogram from the\n",
        "   power/amplitude scale to the decibel scale.\n",
        "-  **MFCC**: Create the Mel-frequency cepstrum coefficients from a\n",
        "   waveform.\n",
        "-  **MelSpectrogram**: Create MEL Spectrograms from a waveform using the\n",
        "   STFT function in PyTorch.\n",
        "-  **MuLawEncoding**: Encode waveform based on mu-law companding.\n",
        "-  **MuLawDecoding**: Decode mu-law encoded waveform.\n",
        "\n",
        "Since all transforms are nn.Modules or jit.ScriptModules, they can be\n",
        "used as part of a neural network at any point.\n",
        "\n",
        "\n"
      ]
    },
    {
      "cell_type": "markdown",
      "metadata": {
        "id": "4rr38EFVLSjf"
      },
      "source": [
        "To start, we can look at the log of the spectrogram on a log scale.\n",
        "\n",
        "\n"
      ]
    },
    {
      "cell_type": "code",
      "metadata": {
        "colab": {
          "base_uri": "https://localhost:8080/",
          "height": 134
        },
        "id": "jpSGp9nxLSjf",
        "outputId": "b2d62017-0ab9-4955-dcd0-8d017ad33102"
      },
      "source": [
        "specgram = torchaudio.transforms.Spectrogram()(waveform)\n",
        "\n",
        "print(\"Shape of spectrogram: {}\".format(specgram.size()))\n",
        "\n",
        "plt.figure()\n",
        "plt.imshow(specgram.log2()[0,:,:].numpy(), cmap='gray')"
      ],
      "execution_count": null,
      "outputs": [
        {
          "output_type": "stream",
          "text": [
            "Shape of spectrogram: torch.Size([2, 201, 1385])\n"
          ],
          "name": "stdout"
        },
        {
          "output_type": "execute_result",
          "data": {
            "text/plain": [
              "<matplotlib.image.AxesImage at 0x7f77180db2d0>"
            ]
          },
          "metadata": {
            "tags": []
          },
          "execution_count": 4
        },
        {
          "output_type": "display_data",
          "data": {
            "image/png": "[encoded data removed]",
            "text/plain": [
              "<Figure size 432x288 with 1 Axes>"
            ]
          },
          "metadata": {
            "tags": [],
            "needs_background": "light"
          }
        }
      ]
    },
    {
      "cell_type": "markdown",
      "metadata": {
        "id": "Vs0smYpsLSjg"
      },
      "source": [
        "Or we can look at the Mel Spectrogram on a log scale.\n",
        "\n",
        "\n"
      ]
    },
    {
      "cell_type": "code",
      "metadata": {
        "colab": {
          "base_uri": "https://localhost:8080/",
          "height": 153
        },
        "id": "NXfD7yroLSjg",
        "outputId": "4e5208da-5ea9-4431-c9d6-b70067068d42"
      },
      "source": [
        "specgram = torchaudio.transforms.MelSpectrogram()(waveform)\n",
        "\n",
        "print(\"Shape of spectrogram: {}\".format(specgram.size()))\n",
        "\n",
        "plt.figure()\n",
        "p = plt.imshow(specgram.log2()[0,:,:].detach().numpy(), cmap='gray')"
      ],
      "execution_count": null,
      "outputs": [
        {
          "output_type": "stream",
          "text": [
            "/usr/local/lib/python3.7/dist-packages/torchaudio/functional/functional.py:358: UserWarning: At least one mel filterbank has all zero values. The value for `n_mels` (128) may be set too high. Or, the value for `n_freqs` (201) may be set too low.\n",
            "  \"At least one mel filterbank has all zero values. \"\n"
          ],
          "name": "stderr"
        },
        {
          "output_type": "stream",
          "text": [
            "Shape of spectrogram: torch.Size([2, 128, 1385])\n"
          ],
          "name": "stdout"
        },
        {
          "output_type": "display_data",
          "data": {
            "image/png": "[encoded data removed]",
            "text/plain": [
              "<Figure size 432x288 with 1 Axes>"
            ]
          },
          "metadata": {
            "tags": [],
            "needs_background": "light"
          }
        }
      ]
    },
    {
      "cell_type": "markdown",
      "metadata": {
        "id": "2ok7oFdBLSjg"
      },
      "source": [
        "We can resample the waveform, one channel at a time.\n",
        "\n",
        "\n"
      ]
    },
    {
      "cell_type": "code",
      "metadata": {
        "colab": {
          "base_uri": "https://localhost:8080/",
          "height": 298
        },
        "id": "LKK6gyiELSjg",
        "outputId": "c7b27c7e-f61c-46e5-fe88-e392c3a3e176"
      },
      "source": [
        "new_sample_rate = sample_rate/10\n",
        "\n",
        "# Since Resample applies to a single channel, we resample first channel here\n",
        "channel = 0\n",
        "transformed = torchaudio.transforms.Resample(sample_rate, new_sample_rate)(waveform[channel,:].view(1,-1))\n",
        "\n",
        "print(\"Shape of transformed waveform: {}\".format(transformed.size()))\n",
        "\n",
        "plt.figure()\n",
        "plt.plot(transformed[0,:].numpy())"
      ],
      "execution_count": null,
      "outputs": [
        {
          "output_type": "stream",
          "text": [
            "Shape of transformed waveform: torch.Size([1, 27686])\n"
          ],
          "name": "stdout"
        },
        {
          "output_type": "execute_result",
          "data": {
            "text/plain": [
              "[<matplotlib.lines.Line2D at 0x7f771641f610>]"
            ]
          },
          "metadata": {
            "tags": []
          },
          "execution_count": 6
        },
        {
          "output_type": "display_data",
          "data": {
            "image/png": "[encoded data removed]",
            "text/plain": [
              "<Figure size 432x288 with 1 Axes>"
            ]
          },
          "metadata": {
            "tags": [],
            "needs_background": "light"
          }
        }
      ]
    },
    {
      "cell_type": "markdown",
      "metadata": {
        "id": "OnxCdxybLSjg"
      },
      "source": [
        "As another example of transformations, we can encode the signal based on\n",
        "Mu-Law enconding. But to do so, we need the signal to be between -1 and\n",
        "1. Since the tensor is just a regular PyTorch tensor, we can apply\n",
        "standard operators on it.\n",
        "\n",
        "\n"
      ]
    },
    {
      "cell_type": "code",
      "metadata": {
        "colab": {
          "base_uri": "https://localhost:8080/"
        },
        "id": "aGyH2FBGLSjh",
        "outputId": "30bb928c-b3e5-4bc2-c385-b34389b9291d"
      },
      "source": [
        "# Let's check if the tensor is in the interval [-1,1]\n",
        "print(\"Min of waveform: {}\\nMax of waveform: {}\\nMean of waveform: {}\".format(waveform.min(), waveform.max(), waveform.mean()))"
      ],
      "execution_count": null,
      "outputs": [
        {
          "output_type": "stream",
          "text": [
            "Min of waveform: -0.572845458984375\n",
            "Max of waveform: 0.575958251953125\n",
            "Mean of waveform: 9.293758921558037e-05\n"
          ],
          "name": "stdout"
        }
      ]
    },
    {
      "cell_type": "markdown",
      "metadata": {
        "id": "x6zFNK03LSjh"
      },
      "source": [
        "Since the waveform is already between -1 and 1, we do not need to\n",
        "normalize it.\n",
        "\n",
        "\n"
      ]
    },
    {
      "cell_type": "code",
      "metadata": {
        "id": "tUmK2n1LLSjh"
      },
      "source": [
        "def normalize(tensor):\n",
        "    # Subtract the mean, and scale to the interval [-1,1]\n",
        "    tensor_minusmean = tensor - tensor.mean()\n",
        "    return tensor_minusmean/tensor_minusmean.abs().max()\n",
        "\n",
        "# Let's normalize to the full interval [-1,1]\n",
        "# waveform = normalize(waveform)"
      ],
      "execution_count": null,
      "outputs": []
    },
    {
      "cell_type": "markdown",
      "metadata": {
        "id": "6mgCGT98LSjh"
      },
      "source": [
        "Let’s apply encode the waveform.\n",
        "\n",
        "\n"
      ]
    },
    {
      "cell_type": "code",
      "metadata": {
        "colab": {
          "base_uri": "https://localhost:8080/",
          "height": 300
        },
        "id": "XSUZNMPFLSjh",
        "outputId": "fdbdc002-cca9-480b-a563-8a29ce76382e"
      },
      "source": [
        "transformed = torchaudio.transforms.MuLawEncoding()(waveform)\n",
        "\n",
        "print(\"Shape of transformed waveform: {}\".format(transformed.size()))\n",
        "\n",
        "plt.figure()\n",
        "plt.plot(transformed[0,:].numpy())"
      ],
      "execution_count": null,
      "outputs": [
        {
          "output_type": "stream",
          "text": [
            "Shape of transformed waveform: torch.Size([2, 276858])\n"
          ],
          "name": "stdout"
        },
        {
          "output_type": "execute_result",
          "data": {
            "text/plain": [
              "[<matplotlib.lines.Line2D at 0x7f77163774d0>]"
            ]
          },
          "metadata": {
            "tags": []
          },
          "execution_count": 9
        },
        {
          "output_type": "display_data",
          "data": {
            "image/png": "[encoded data removed]",
            "text/plain": [
              "<Figure size 432x288 with 1 Axes>"
            ]
          },
          "metadata": {
            "tags": [],
            "needs_background": "light"
          }
        }
      ]
    },
    {
      "cell_type": "markdown",
      "metadata": {
        "id": "VznvkwbyLSji"
      },
      "source": [
        "And now decode.\n",
        "\n",
        "\n"
      ]
    },
    {
      "cell_type": "code",
      "metadata": {
        "colab": {
          "base_uri": "https://localhost:8080/",
          "height": 300
        },
        "id": "uTpQKMCXLSji",
        "outputId": "52dc11bf-c397-4e37-d3ca-1b1f6579f057"
      },
      "source": [
        "reconstructed = torchaudio.transforms.MuLawDecoding()(transformed)\n",
        "\n",
        "print(\"Shape of recovered waveform: {}\".format(reconstructed.size()))\n",
        "\n",
        "plt.figure()\n",
        "plt.plot(reconstructed[0,:].numpy())"
      ],
      "execution_count": null,
      "outputs": [
        {
          "output_type": "stream",
          "text": [
            "Shape of recovered waveform: torch.Size([2, 276858])\n"
          ],
          "name": "stdout"
        },
        {
          "output_type": "execute_result",
          "data": {
            "text/plain": [
              "[<matplotlib.lines.Line2D at 0x7f77162d8790>]"
            ]
          },
          "metadata": {
            "tags": []
          },
          "execution_count": 10
        },
        {
          "output_type": "display_data",
          "data": {
            "image/png": "[encoded data removed]",
            "text/plain": [
              "<Figure size 432x288 with 1 Axes>"
            ]
          },
          "metadata": {
            "tags": [],
            "needs_background": "light"
          }
        }
      ]
    },
    {
      "cell_type": "markdown",
      "metadata": {
        "id": "UF2lRC6OLSji"
      },
      "source": [
        "We can finally compare the original waveform with its reconstructed\n",
        "version.\n",
        "\n",
        "\n"
      ]
    },
    {
      "cell_type": "code",
      "metadata": {
        "colab": {
          "base_uri": "https://localhost:8080/"
        },
        "id": "gs9f99GHLSji",
        "outputId": "4d282b0a-d99b-46da-9c8f-a3df9df4acf3"
      },
      "source": [
        "# Compute median relative difference\n",
        "err = ((waveform-reconstructed).abs() / waveform.abs()).median()\n",
        "\n",
        "print(\"Median relative difference between original and MuLaw reconstucted signals: {:.2%}\".format(err))"
      ],
      "execution_count": null,
      "outputs": [
        {
          "output_type": "stream",
          "text": [
            "Median relative difference between original and MuLaw reconstucted signals: 1.28%\n"
          ],
          "name": "stdout"
        }
      ]
    },
    {
      "cell_type": "markdown",
      "metadata": {
        "id": "M_lZjXh-LSji"
      },
      "source": [
        "Migrating to torchaudio from Kaldi\n",
        "----------------------------------\n",
        "\n",
        "Users may be familiar with\n",
        "`Kaldi <http://github.com/kaldi-asr/kaldi>`_, a toolkit for speech\n",
        "recognition. torchaudio offers compatibility with it in\n",
        "``torchaudio.kaldi_io``. It can indeed read from kaldi scp, or ark file\n",
        "or streams with:\n",
        "\n",
        "-  read_vec_int_ark\n",
        "-  read_vec_flt_scp\n",
        "-  read_vec_flt_arkfile/stream\n",
        "-  read_mat_scp\n",
        "-  read_mat_ark\n",
        "\n",
        "torchaudio provides Kaldi-compatible transforms for ``spectrogram`` and\n",
        "``fbank`` with the benefit of GPU support, see\n",
        "`here <compliance.kaldi.html>`__ for more information.\n",
        "\n",
        "\n"
      ]
    },
    {
      "cell_type": "code",
      "metadata": {
        "colab": {
          "base_uri": "https://localhost:8080/",
          "height": 134
        },
        "id": "NklS5ABVLSji",
        "outputId": "26f2bf46-c346-4ec2-86be-36ab18260035"
      },
      "source": [
        "n_fft = 400.0\n",
        "frame_length = n_fft / sample_rate * 1000.0\n",
        "frame_shift = frame_length / 2.0\n",
        "\n",
        "params = {\n",
        "    \"channel\": 0,\n",
        "    \"dither\": 0.0,\n",
        "    \"window_type\": \"hanning\",\n",
        "    \"frame_length\": frame_length,\n",
        "    \"frame_shift\": frame_shift,\n",
        "    \"remove_dc_offset\": False,\n",
        "    \"round_to_power_of_two\": False,\n",
        "    \"sample_frequency\": sample_rate,\n",
        "}\n",
        "\n",
        "specgram = torchaudio.compliance.kaldi.spectrogram(waveform, **params)\n",
        "\n",
        "print(\"Shape of spectrogram: {}\".format(specgram.size()))\n",
        "\n",
        "plt.figure()\n",
        "plt.imshow(specgram.t().numpy(), cmap='gray')"
      ],
      "execution_count": null,
      "outputs": [
        {
          "output_type": "stream",
          "text": [
            "Shape of spectrogram: torch.Size([1383, 201])\n"
          ],
          "name": "stdout"
        },
        {
          "output_type": "execute_result",
          "data": {
            "text/plain": [
              "<matplotlib.image.AxesImage at 0x7f77164e3ed0>"
            ]
          },
          "metadata": {
            "tags": []
          },
          "execution_count": 12
        },
        {
          "output_type": "display_data",
          "data": {
            "image/png": "[encoded data removed]",
            "text/plain": [
              "<Figure size 432x288 with 1 Axes>"
            ]
          },
          "metadata": {
            "tags": [],
            "needs_background": "light"
          }
        }
      ]
    },
    {
      "cell_type": "markdown",
      "metadata": {
        "id": "8PPGxTS7LSjj"
      },
      "source": [
        "We also support computing the filterbank features from waveforms,\n",
        "matching Kaldi’s implementation.\n",
        "\n",
        "\n"
      ]
    },
    {
      "cell_type": "code",
      "metadata": {
        "colab": {
          "base_uri": "https://localhost:8080/",
          "height": 90
        },
        "id": "chyIN3YFLSjj",
        "outputId": "b7a1f71a-3a82-4f21-b6ad-4949b1732b12"
      },
      "source": [
        "fbank = torchaudio.compliance.kaldi.fbank(waveform, **params)\n",
        "\n",
        "print(\"Shape of fbank: {}\".format(fbank.size()))\n",
        "\n",
        "plt.figure()\n",
        "plt.imshow(fbank.t().numpy(), cmap='gray')"
      ],
      "execution_count": null,
      "outputs": [
        {
          "output_type": "stream",
          "text": [
            "Shape of fbank: torch.Size([1383, 23])\n"
          ],
          "name": "stdout"
        },
        {
          "output_type": "execute_result",
          "data": {
            "text/plain": [
              "<matplotlib.image.AxesImage at 0x7f77162a7a50>"
            ]
          },
          "metadata": {
            "tags": []
          },
          "execution_count": 13
        },
        {
          "output_type": "display_data",
          "data": {
            "image/png": "[encoded data removed]",
            "text/plain": [
              "<Figure size 432x288 with 1 Axes>"
            ]
          },
          "metadata": {
            "tags": [],
            "needs_background": "light"
          }
        }
      ]
    },
    {
      "cell_type": "markdown",
      "metadata": {
        "id": "7Fxq4zs8LSjj"
      },
      "source": [
        "Conclusion\n",
        "----------\n",
        "\n",
        "We used an example raw audio signal, or waveform, to illustrate how to\n",
        "open an audio file using torchaudio, and how to pre-process and\n",
        "transform such waveform. Given that torchaudio is built on PyTorch,\n",
        "these techniques can be used as building blocks for more advanced audio\n",
        "applications, such as speech recognition, while leveraging GPUs.\n",
        "\n",
        "\n"
      ]
    }
  ]
}